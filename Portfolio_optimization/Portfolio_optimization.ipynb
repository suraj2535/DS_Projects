{
 "cells": [
  {
   "cell_type": "markdown",
   "id": "9698adb4",
   "metadata": {},
   "source": [
    "# Portfolio optimization using Python"
   ]
  },
  {
   "cell_type": "code",
   "execution_count": 1,
   "id": "d82ed0e3",
   "metadata": {},
   "outputs": [],
   "source": [
    "# Importing necessary libraries\n",
    "import numpy as np\n",
    "import pandas as pd\n",
    "import datetime as dt\n",
    "from pandas_datareader import data as wb\n",
    "import plotly.graph_objects as go\n",
    "import matplotlib.pyplot as plt\n",
    "import seaborn as sn\n",
    "import yfinance as yf\n",
    "%matplotlib inline"
   ]
  },
  {
   "cell_type": "code",
   "execution_count": 2,
   "id": "fc5c0fac",
   "metadata": {},
   "outputs": [
    {
     "name": "stdout",
     "output_type": "stream",
     "text": [
      "Enter stock symbols separated by spaces: SBIN HDFC  ONGC WIPRO HEROMOTOCO LT ITC COALINDIA RELIANCE NCC\n"
     ]
    }
   ],
   "source": [
    "# Importing financial data for a list of stocks from Yahoo Finance\n",
    "# User inputs the stock symbols, e.g., \"SBIN HDFC ONGC WIPRO HEROMOTOCO LT ITC COALINDIA RELIANCE NCC\"\n",
    "stocks = input(\"Enter stock symbols separated by spaces: \").split()\n",
    "asset = [stock.upper() + '.NS' for stock in stocks]\n",
    "asset.sort()"
   ]
  },
  {
   "cell_type": "code",
   "execution_count": 3,
   "id": "49dced99",
   "metadata": {},
   "outputs": [
    {
     "name": "stdout",
     "output_type": "stream",
     "text": [
      "Number of years of data you want to analyze: 10\n"
     ]
    }
   ],
   "source": [
    "# User specifies the number of years of data to analyze\n",
    "years = float(input('Number of years of data you want to analyze: '))\n",
    "endDate = dt.datetime.now()\n",
    "startDate = endDate - dt.timedelta(days=365 * years)"
   ]
  },
  {
   "cell_type": "code",
   "execution_count": 4,
   "id": "f146667f",
   "metadata": {},
   "outputs": [
    {
     "name": "stdout",
     "output_type": "stream",
     "text": [
      "[*********************100%***********************]  10 of 10 completed\n"
     ]
    }
   ],
   "source": [
    "# Using yfinance to download historical stock price data\n",
    "yf.pdr_override()\n",
    "pf_data = wb.get_data_yahoo(asset, start=startDate, end=endDate)['Adj Close']"
   ]
  },
  {
   "cell_type": "code",
   "execution_count": 5,
   "id": "51dbb05d",
   "metadata": {},
   "outputs": [],
   "source": [
    "# Scaling the data and preparing it for LSTM prediction\n",
    "# LSTM (Long Short-Term Memory) is a type of recurrent neural network often used for time series prediction.\n",
    "\n",
    "def Scale_data_set(data):\n",
    "    dataset = data.values\n",
    "    training_data_len = int(np.ceil(len(dataset) * 0.95))\n",
    "    scaler = MinMaxScaler(feature_range=(0, 1))\n",
    "    scaled_data = scaler.fit_transform(dataset)\n",
    "    return training_data_len, scaled_data, dataset, scaler"
   ]
  },
  {
   "cell_type": "code",
   "execution_count": 6,
   "id": "aa65c526",
   "metadata": {},
   "outputs": [],
   "source": [
    "# Creating training data for LSTM\n",
    "def Creating_training_data(training_data_len, scaled_data):\n",
    "    train_data = scaled_data[0:int(training_data_len), :]\n",
    "    x_train = []\n",
    "    y_train = []\n",
    "\n",
    "    for i in range(60, len(train_data)):\n",
    "        x_train.append(train_data[i-60:i, 0])\n",
    "        y_train.append(train_data[i, 0])\n",
    "\n",
    "    x_train, y_train = np.array(x_train), np.array(y_train)\n",
    "    x_train = np.reshape(x_train, (x_train.shape[0], x_train.shape[1], 1))\n",
    "    return x_train, y_train"
   ]
  },
  {
   "cell_type": "code",
   "execution_count": 7,
   "id": "f240bce0",
   "metadata": {},
   "outputs": [],
   "source": [
    "# Building and training the LSTM model\n",
    "def LSTM_model(x_train, y_train):\n",
    "    model = Sequential()\n",
    "    model.add(LSTM(128, return_sequences=True, input_shape=(x_train.shape[1], 1)))\n",
    "    model.add(LSTM(64, return_sequences=False))\n",
    "    model.add(Dense(25))\n",
    "    model.add(Dense(1))\n",
    "\n",
    "    model.compile(optimizer='adam', loss='mean_squared_error')\n",
    "    model.fit(x_train, y_train, batch_size=1, epochs=1)\n",
    "    return model"
   ]
  },
  {
   "cell_type": "code",
   "execution_count": 8,
   "id": "0b83b6c1",
   "metadata": {},
   "outputs": [],
   "source": [
    "# Predicting data using the trained LSTM model\n",
    "def miscellaneous(model, training_data_len, scaled_data, dataset, scaler):\n",
    "    test_data = scaled_data[training_data_len - 60:, :]\n",
    "    x_test = []\n",
    "    y_test = dataset[training_data_len:, :]\n",
    "\n",
    "    for i in range(60, len(test_data)):\n",
    "        x_test.append(test_data[i-60:i, 0])\n",
    "\n",
    "    x_test = np.array(x_test)\n",
    "    x_test = np.reshape(x_test, (x_test.shape[0], x_test.shape[1], 1))\n",
    "    predictions = model.predict(x_test)\n",
    "    predictions = scaler.inverse_transform(predictions)\n",
    "    rmse = np.sqrt(np.mean(((predictions - y_test) ** 2)))\n",
    "    return predictions, rmse"
   ]
  },
  {
   "cell_type": "code",
   "execution_count": 9,
   "id": "443aba40",
   "metadata": {},
   "outputs": [],
   "source": [
    "# Plotting the chart with predicted values\n",
    "def Ploting_Prediction(predictions, training_data_len, data, title):\n",
    "    train = data[:training_data_len]\n",
    "    valid = data[training_data_len:]\n",
    "    valid['Predictions'] = predictions\n",
    "    plt.figure(figsize=(16, 6))\n",
    "    plt.title(title)\n",
    "    plt.xlabel('Date', fontsize=18)\n",
    "    plt.ylabel('Close Price in Rs', fontsize=18)\n",
    "    plt.plot(train['Close'])\n",
    "    plt.plot(valid[['Close', 'Predictions']])\n",
    "    plt.legend(['Train', 'Val', 'Predictions'], loc='lower right')\n",
    "    plt.show()\n",
    "    return train, valid"
   ]
  },
  {
   "cell_type": "code",
   "execution_count": 10,
   "id": "38be426b",
   "metadata": {},
   "outputs": [],
   "source": [
    "# Plotting the graph using Plotly\n",
    "def plot_graph_plotly(predictions, training_data_len, data, title):\n",
    "    train = data[:training_data_len]\n",
    "    valid = data[training_data_len:]\n",
    "    valid['Predictions'] = predictions\n",
    "\n",
    "    train_data = go.Scatter(\n",
    "        name='Training data',\n",
    "        x=data.index,\n",
    "        y=train['Close'],\n",
    "        marker=dict(color='blue', size=5,)\n",
    "    )\n",
    "\n",
    "    Val_data = go.Scatter(\n",
    "        name='Actual Value',\n",
    "        x=valid.index,\n",
    "        y=valid['Close'],\n",
    "        marker=dict(color='green', size=5,)\n",
    "    )\n",
    "\n",
    "    Prediction_data = go.Scatter(\n",
    "        name='Predicted Data',\n",
    "        x=valid.index,\n",
    "        y=valid['Predictions'],\n",
    "        marker=dict(color='red', size=5,)\n",
    "    )\n",
    "\n",
    "    data = [train_data, Val_data, Prediction_data]\n",
    "\n",
    "    layout = go.Layout(\n",
    "        title=title,\n",
    "        yaxis=dict(title='Close Price in Rs'),\n",
    "        xaxis=dict(title='Date'),\n",
    "        showlegend=True,\n",
    "        legend=dict(\n",
    "            x=0.83, y=0, traceorder='normal',\n",
    "            bgcolor='#E2E2E2',\n",
    "            bordercolor='black',\n",
    "            borderwidth=2),\n",
    "        width=980,\n",
    "        height=500)\n",
    "\n",
    "    fig = go.Figure(data=data, layout=layout)\n",
    "    fig.show()\n",
    "    return train, valid"
   ]
  },
  {
   "cell_type": "code",
   "execution_count": 11,
   "id": "8f1a3c08",
   "metadata": {},
   "outputs": [],
   "source": [
    "# Compiling all functions into one\n",
    "def Stock_prediction(data, title):\n",
    "    training_data_len, scaled_data, dataset, scaler = Scale_data_set(data)\n",
    "    x_train, y_train = Creating_training_data(training_data_len, scaled_data)\n",
    "    model = LSTM_model(x_train, y_train)\n",
    "    predictions, rmse = miscellaneous(model, training_data_len, scaled_data, dataset, scaler)\n",
    "    train, valid = plot_graph_plotly(predictions, training_data_len, data, title)\n",
    "    return train, valid, rmse, predictions"
   ]
  },
  {
   "cell_type": "code",
   "execution_count": 14,
   "id": "33eee683",
   "metadata": {},
   "outputs": [
    {
     "ename": "NameError",
     "evalue": "name 'LSTM' is not defined",
     "output_type": "error",
     "traceback": [
      "\u001b[1;31m---------------------------------------------------------------------------\u001b[0m",
      "\u001b[1;31mNameError\u001b[0m                                 Traceback (most recent call last)",
      "\u001b[1;32m~\\AppData\\Local\\Temp\\ipykernel_15352\\1572381923.py\u001b[0m in \u001b[0;36m<module>\u001b[1;34m\u001b[0m\n\u001b[0;32m     11\u001b[0m     \u001b[0mDATA\u001b[0m \u001b[1;33m=\u001b[0m \u001b[0mdata\u001b[0m\u001b[1;33m[\u001b[0m\u001b[0mi\u001b[0m\u001b[1;33m]\u001b[0m\u001b[1;33m\u001b[0m\u001b[1;33m\u001b[0m\u001b[0m\n\u001b[0;32m     12\u001b[0m     \u001b[0mDATA\u001b[0m \u001b[1;33m=\u001b[0m \u001b[0mDATA\u001b[0m\u001b[1;33m.\u001b[0m\u001b[0mrename\u001b[0m\u001b[1;33m(\u001b[0m\u001b[0mcolumns\u001b[0m\u001b[1;33m=\u001b[0m\u001b[1;33m{\u001b[0m\u001b[0mi\u001b[0m\u001b[1;33m:\u001b[0m \u001b[1;34m\"Close\"\u001b[0m\u001b[1;33m}\u001b[0m\u001b[1;33m)\u001b[0m\u001b[1;33m\u001b[0m\u001b[1;33m\u001b[0m\u001b[0m\n\u001b[1;32m---> 13\u001b[1;33m     \u001b[0mtrain\u001b[0m\u001b[1;33m,\u001b[0m \u001b[0mvalid\u001b[0m\u001b[1;33m,\u001b[0m \u001b[0mrmse\u001b[0m\u001b[1;33m,\u001b[0m \u001b[0mpredictions\u001b[0m \u001b[1;33m=\u001b[0m \u001b[0mStock_prediction\u001b[0m\u001b[1;33m(\u001b[0m\u001b[0mDATA\u001b[0m\u001b[1;33m,\u001b[0m \u001b[0mi\u001b[0m\u001b[1;33m)\u001b[0m\u001b[1;33m\u001b[0m\u001b[1;33m\u001b[0m\u001b[0m\n\u001b[0m\u001b[0;32m     14\u001b[0m     \u001b[0mprint\u001b[0m\u001b[1;33m(\u001b[0m\u001b[1;34m\"'Root Mean Squared Error' of {} = \"\u001b[0m\u001b[1;33m.\u001b[0m\u001b[0mformat\u001b[0m\u001b[1;33m(\u001b[0m\u001b[0mi\u001b[0m\u001b[1;33m)\u001b[0m \u001b[1;33m+\u001b[0m \u001b[0mstr\u001b[0m\u001b[1;33m(\u001b[0m\u001b[0mrmse\u001b[0m\u001b[1;33m)\u001b[0m\u001b[1;33m)\u001b[0m\u001b[1;33m\u001b[0m\u001b[1;33m\u001b[0m\u001b[0m\n",
      "\u001b[1;32m~\\AppData\\Local\\Temp\\ipykernel_15352\\2786418857.py\u001b[0m in \u001b[0;36mStock_prediction\u001b[1;34m(data, title)\u001b[0m\n\u001b[0;32m      3\u001b[0m     \u001b[0mtraining_data_len\u001b[0m\u001b[1;33m,\u001b[0m \u001b[0mscaled_data\u001b[0m\u001b[1;33m,\u001b[0m \u001b[0mdataset\u001b[0m\u001b[1;33m,\u001b[0m \u001b[0mscaler\u001b[0m \u001b[1;33m=\u001b[0m \u001b[0mScale_data_set\u001b[0m\u001b[1;33m(\u001b[0m\u001b[0mdata\u001b[0m\u001b[1;33m)\u001b[0m\u001b[1;33m\u001b[0m\u001b[1;33m\u001b[0m\u001b[0m\n\u001b[0;32m      4\u001b[0m     \u001b[0mx_train\u001b[0m\u001b[1;33m,\u001b[0m \u001b[0my_train\u001b[0m \u001b[1;33m=\u001b[0m \u001b[0mCreating_training_data\u001b[0m\u001b[1;33m(\u001b[0m\u001b[0mtraining_data_len\u001b[0m\u001b[1;33m,\u001b[0m \u001b[0mscaled_data\u001b[0m\u001b[1;33m)\u001b[0m\u001b[1;33m\u001b[0m\u001b[1;33m\u001b[0m\u001b[0m\n\u001b[1;32m----> 5\u001b[1;33m     \u001b[0mmodel\u001b[0m \u001b[1;33m=\u001b[0m \u001b[0mLSTM_model\u001b[0m\u001b[1;33m(\u001b[0m\u001b[0mx_train\u001b[0m\u001b[1;33m,\u001b[0m \u001b[0my_train\u001b[0m\u001b[1;33m)\u001b[0m\u001b[1;33m\u001b[0m\u001b[1;33m\u001b[0m\u001b[0m\n\u001b[0m\u001b[0;32m      6\u001b[0m     \u001b[0mpredictions\u001b[0m\u001b[1;33m,\u001b[0m \u001b[0mrmse\u001b[0m \u001b[1;33m=\u001b[0m \u001b[0mmiscellaneous\u001b[0m\u001b[1;33m(\u001b[0m\u001b[0mmodel\u001b[0m\u001b[1;33m,\u001b[0m \u001b[0mtraining_data_len\u001b[0m\u001b[1;33m,\u001b[0m \u001b[0mscaled_data\u001b[0m\u001b[1;33m,\u001b[0m \u001b[0mdataset\u001b[0m\u001b[1;33m,\u001b[0m \u001b[0mscaler\u001b[0m\u001b[1;33m)\u001b[0m\u001b[1;33m\u001b[0m\u001b[1;33m\u001b[0m\u001b[0m\n\u001b[0;32m      7\u001b[0m     \u001b[0mtrain\u001b[0m\u001b[1;33m,\u001b[0m \u001b[0mvalid\u001b[0m \u001b[1;33m=\u001b[0m \u001b[0mplot_graph_plotly\u001b[0m\u001b[1;33m(\u001b[0m\u001b[0mpredictions\u001b[0m\u001b[1;33m,\u001b[0m \u001b[0mtraining_data_len\u001b[0m\u001b[1;33m,\u001b[0m \u001b[0mdata\u001b[0m\u001b[1;33m,\u001b[0m \u001b[0mtitle\u001b[0m\u001b[1;33m)\u001b[0m\u001b[1;33m\u001b[0m\u001b[1;33m\u001b[0m\u001b[0m\n",
      "\u001b[1;32m~\\AppData\\Local\\Temp\\ipykernel_15352\\3668327327.py\u001b[0m in \u001b[0;36mLSTM_model\u001b[1;34m(x_train, y_train)\u001b[0m\n\u001b[0;32m      2\u001b[0m \u001b[1;32mdef\u001b[0m \u001b[0mLSTM_model\u001b[0m\u001b[1;33m(\u001b[0m\u001b[0mx_train\u001b[0m\u001b[1;33m,\u001b[0m \u001b[0my_train\u001b[0m\u001b[1;33m)\u001b[0m\u001b[1;33m:\u001b[0m\u001b[1;33m\u001b[0m\u001b[1;33m\u001b[0m\u001b[0m\n\u001b[0;32m      3\u001b[0m     \u001b[0mmodel\u001b[0m \u001b[1;33m=\u001b[0m \u001b[0mSequential\u001b[0m\u001b[1;33m(\u001b[0m\u001b[1;33m)\u001b[0m\u001b[1;33m\u001b[0m\u001b[1;33m\u001b[0m\u001b[0m\n\u001b[1;32m----> 4\u001b[1;33m     \u001b[0mmodel\u001b[0m\u001b[1;33m.\u001b[0m\u001b[0madd\u001b[0m\u001b[1;33m(\u001b[0m\u001b[0mLSTM\u001b[0m\u001b[1;33m(\u001b[0m\u001b[1;36m128\u001b[0m\u001b[1;33m,\u001b[0m \u001b[0mreturn_sequences\u001b[0m\u001b[1;33m=\u001b[0m\u001b[1;32mTrue\u001b[0m\u001b[1;33m,\u001b[0m \u001b[0minput_shape\u001b[0m\u001b[1;33m=\u001b[0m\u001b[1;33m(\u001b[0m\u001b[0mx_train\u001b[0m\u001b[1;33m.\u001b[0m\u001b[0mshape\u001b[0m\u001b[1;33m[\u001b[0m\u001b[1;36m1\u001b[0m\u001b[1;33m]\u001b[0m\u001b[1;33m,\u001b[0m \u001b[1;36m1\u001b[0m\u001b[1;33m)\u001b[0m\u001b[1;33m)\u001b[0m\u001b[1;33m)\u001b[0m\u001b[1;33m\u001b[0m\u001b[1;33m\u001b[0m\u001b[0m\n\u001b[0m\u001b[0;32m      5\u001b[0m     \u001b[0mmodel\u001b[0m\u001b[1;33m.\u001b[0m\u001b[0madd\u001b[0m\u001b[1;33m(\u001b[0m\u001b[0mLSTM\u001b[0m\u001b[1;33m(\u001b[0m\u001b[1;36m64\u001b[0m\u001b[1;33m,\u001b[0m \u001b[0mreturn_sequences\u001b[0m\u001b[1;33m=\u001b[0m\u001b[1;32mFalse\u001b[0m\u001b[1;33m)\u001b[0m\u001b[1;33m)\u001b[0m\u001b[1;33m\u001b[0m\u001b[1;33m\u001b[0m\u001b[0m\n\u001b[0;32m      6\u001b[0m     \u001b[0mmodel\u001b[0m\u001b[1;33m.\u001b[0m\u001b[0madd\u001b[0m\u001b[1;33m(\u001b[0m\u001b[0mDense\u001b[0m\u001b[1;33m(\u001b[0m\u001b[1;36m25\u001b[0m\u001b[1;33m)\u001b[0m\u001b[1;33m)\u001b[0m\u001b[1;33m\u001b[0m\u001b[1;33m\u001b[0m\u001b[0m\n",
      "\u001b[1;31mNameError\u001b[0m: name 'LSTM' is not defined"
     ]
    }
   ],
   "source": [
    "from sklearn.preprocessing import MinMaxScaler\n",
    "from keras.models import Sequential\n",
    "\n",
    "\n",
    "# Sending Data for Prediction for each stock in the portfolio\n",
    "data = {}\n",
    "for st in asset:\n",
    "    data['{}'.format(st)] = pf_data.filter([st])\n",
    "\n",
    "for i in asset:\n",
    "    DATA = data[i]\n",
    "    DATA = DATA.rename(columns={i: \"Close\"})\n",
    "    train, valid, rmse, predictions = Stock_prediction(DATA, i)\n",
    "    print(\"'Root Mean Squared Error' of {} = \".format(i) + str(rmse))"
   ]
  },
  {
   "cell_type": "code",
   "execution_count": null,
   "id": "cb2d5c70",
   "metadata": {},
   "outputs": [],
   "source": [
    "# Picking the best-performing stocks based on annual returns\n",
    "retrn = (pf_data / pf_data.shift(1)) - 1\n",
    "annual_returns = retrn.mean() * 250 * 100\n",
    "annual_returns.values[::-1].sort()\n",
    "sorted_annual_return = annual_returns[0:5]\n",
    "assets = list(sorted_annual_return.index)\n",
    "pf_data = pf_data.filter(assets)\n",
    "returns = retrn.filter(assets)\n",
    "num_assets = len(assets)"
   ]
  },
  {
   "cell_type": "code",
   "execution_count": null,
   "id": "db00b8f1",
   "metadata": {},
   "outputs": [],
   "source": [
    "# Generating random portfolio weights and calculating portfolio statistics\n",
    "weights = np.random.random(num_assets)\n",
    "weights /= np.sum(weights)\n",
    "\n",
    "mean_annual_returns = np.sum(weights * returns.mean()) *"
   ]
  }
 ],
 "metadata": {
  "kernelspec": {
   "display_name": "Python 3 (ipykernel)",
   "language": "python",
   "name": "python3"
  },
  "language_info": {
   "codemirror_mode": {
    "name": "ipython",
    "version": 3
   },
   "file_extension": ".py",
   "mimetype": "text/x-python",
   "name": "python",
   "nbconvert_exporter": "python",
   "pygments_lexer": "ipython3",
   "version": "3.9.13"
  }
 },
 "nbformat": 4,
 "nbformat_minor": 5
}
